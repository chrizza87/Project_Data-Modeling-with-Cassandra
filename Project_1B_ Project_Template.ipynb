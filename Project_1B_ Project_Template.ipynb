{
 "cells": [
  {
   "cell_type": "markdown",
   "metadata": {},
   "source": [
    "# Part I. ETL Pipeline for Pre-Processing the Files"
   ]
  },
  {
   "cell_type": "markdown",
   "metadata": {},
   "source": [
    "## PLEASE RUN THE FOLLOWING CODE FOR PRE-PROCESSING THE FILES"
   ]
  },
  {
   "cell_type": "markdown",
   "metadata": {},
   "source": [
    "#### Import Python packages "
   ]
  },
  {
   "cell_type": "code",
   "execution_count": 21,
   "metadata": {},
   "outputs": [],
   "source": [
    "# Import Python packages \n",
    "import pandas as pd\n",
    "import cassandra\n",
    "import re\n",
    "import os\n",
    "import glob\n",
    "import numpy as np\n",
    "import json\n",
    "import csv"
   ]
  },
  {
   "cell_type": "markdown",
   "metadata": {},
   "source": [
    "#### Creating list of filepaths to process original event csv data files"
   ]
  },
  {
   "cell_type": "code",
   "execution_count": 2,
   "metadata": {},
   "outputs": [
    {
     "output_type": "stream",
     "name": "stdout",
     "text": [
      "/Users/Christian/projects/udacity/data-engineer/Project_Data-Modeling-with-Cassandra\n['/Users/Christian/projects/udacity/data-engineer/Project_Data-Modeling-with-Cassandra/event_data/2018-11-15-events.csv', '/Users/Christian/projects/udacity/data-engineer/Project_Data-Modeling-with-Cassandra/event_data/2018-11-22-events.csv', '/Users/Christian/projects/udacity/data-engineer/Project_Data-Modeling-with-Cassandra/event_data/2018-11-09-events.csv', '/Users/Christian/projects/udacity/data-engineer/Project_Data-Modeling-with-Cassandra/event_data/2018-11-18-events.csv', '/Users/Christian/projects/udacity/data-engineer/Project_Data-Modeling-with-Cassandra/event_data/2018-11-04-events.csv', '/Users/Christian/projects/udacity/data-engineer/Project_Data-Modeling-with-Cassandra/event_data/2018-11-01-events.csv', '/Users/Christian/projects/udacity/data-engineer/Project_Data-Modeling-with-Cassandra/event_data/2018-11-27-events.csv', '/Users/Christian/projects/udacity/data-engineer/Project_Data-Modeling-with-Cassandra/event_data/2018-11-10-events.csv', '/Users/Christian/projects/udacity/data-engineer/Project_Data-Modeling-with-Cassandra/event_data/2018-11-20-events.csv', '/Users/Christian/projects/udacity/data-engineer/Project_Data-Modeling-with-Cassandra/event_data/2018-11-17-events.csv', '/Users/Christian/projects/udacity/data-engineer/Project_Data-Modeling-with-Cassandra/event_data/2018-11-06-events.csv', '/Users/Christian/projects/udacity/data-engineer/Project_Data-Modeling-with-Cassandra/event_data/2018-11-03-events.csv', '/Users/Christian/projects/udacity/data-engineer/Project_Data-Modeling-with-Cassandra/event_data/2018-11-28-events.csv', '/Users/Christian/projects/udacity/data-engineer/Project_Data-Modeling-with-Cassandra/event_data/2018-11-12-events.csv', '/Users/Christian/projects/udacity/data-engineer/Project_Data-Modeling-with-Cassandra/event_data/2018-11-25-events.csv', '/Users/Christian/projects/udacity/data-engineer/Project_Data-Modeling-with-Cassandra/event_data/2018-11-26-events.csv', '/Users/Christian/projects/udacity/data-engineer/Project_Data-Modeling-with-Cassandra/event_data/2018-11-11-events.csv', '/Users/Christian/projects/udacity/data-engineer/Project_Data-Modeling-with-Cassandra/event_data/2018-11-14-events.csv', '/Users/Christian/projects/udacity/data-engineer/Project_Data-Modeling-with-Cassandra/event_data/2018-11-23-events.csv', '/Users/Christian/projects/udacity/data-engineer/Project_Data-Modeling-with-Cassandra/event_data/2018-11-08-events.csv', '/Users/Christian/projects/udacity/data-engineer/Project_Data-Modeling-with-Cassandra/event_data/2018-11-19-events.csv', '/Users/Christian/projects/udacity/data-engineer/Project_Data-Modeling-with-Cassandra/event_data/2018-11-05-events.csv', '/Users/Christian/projects/udacity/data-engineer/Project_Data-Modeling-with-Cassandra/event_data/2018-11-02-events.csv', '/Users/Christian/projects/udacity/data-engineer/Project_Data-Modeling-with-Cassandra/event_data/2018-11-29-events.csv', '/Users/Christian/projects/udacity/data-engineer/Project_Data-Modeling-with-Cassandra/event_data/2018-11-13-events.csv', '/Users/Christian/projects/udacity/data-engineer/Project_Data-Modeling-with-Cassandra/event_data/2018-11-24-events.csv', '/Users/Christian/projects/udacity/data-engineer/Project_Data-Modeling-with-Cassandra/event_data/2018-11-21-events.csv', '/Users/Christian/projects/udacity/data-engineer/Project_Data-Modeling-with-Cassandra/event_data/2018-11-16-events.csv', '/Users/Christian/projects/udacity/data-engineer/Project_Data-Modeling-with-Cassandra/event_data/2018-11-07-events.csv', '/Users/Christian/projects/udacity/data-engineer/Project_Data-Modeling-with-Cassandra/event_data/2018-11-30-events.csv']\n"
     ]
    }
   ],
   "source": [
    "# checking your current working directory\n",
    "print(os.getcwd())\n",
    "\n",
    "# Get your current folder and subfolder event data\n",
    "filepath = os.getcwd() + '/event_data'\n",
    "\n",
    "# Create a for loop to create a list of files and collect each filepath\n",
    "for root, dirs, files in os.walk(filepath):\n",
    "    \n",
    "# join the file path and roots with the subdirectories using glob\n",
    "    file_path_list = glob.glob(os.path.join(root,'*'))\n",
    "    print(file_path_list)"
   ]
  },
  {
   "cell_type": "markdown",
   "metadata": {},
   "source": [
    "#### Processing the files to create the data file csv that will be used for Apache Casssandra tables"
   ]
  },
  {
   "cell_type": "code",
   "execution_count": 3,
   "metadata": {
    "tags": [
     "outputPrepend"
    ]
   },
   "outputs": [
    {
     "output_type": "stream",
     "name": "stdout",
     "text": [
      "gged In', 'Kinsley', 'F', '33', 'Young', '275.93098', 'paid', 'Red Bluff, CA', 'PUT', 'NextSong', '1.54047E+12', '977', 'Overload', '200', '1.54359E+12', '85'], ['Gyptian', 'Logged In', 'Rylan', 'M', '13', 'George', '233.09016', 'paid', 'Birmingham-Hoover, AL', 'PUT', 'NextSong', '1.54102E+12', '1076', 'Hold You', '200', '1.54359E+12', '16'], ['Zion / Akon', 'Logged In', 'Rylan', 'M', '14', 'George', '233.19465', 'paid', 'Birmingham-Hoover, AL', 'PUT', 'NextSong', '1.54102E+12', '1076', 'The Way She Moves', '200', '1.54359E+12', '16'], ['Transvision Vamp', 'Logged In', 'Rylan', 'M', '15', 'George', '209.91955', 'paid', 'Birmingham-Hoover, AL', 'PUT', 'NextSong', '1.54102E+12', '1076', 'I Want Your Love', '200', '1.54359E+12', '16'], ['Ry Cooder', 'Logged In', 'Chloe', 'F', '37', 'Cuevas', '201.56036', 'paid', 'San Francisco-Oakland-Hayward, CA', 'PUT', 'NextSong', '1.54094E+12', '1096', 'Corrido de Boxeo', '200', '1.54359E+12', '49'], ['The Pussycat Dolls', 'Logged In', 'Rylan', 'M', '16', 'George', '245.18485', 'paid', 'Birmingham-Hoover, AL', 'PUT', 'NextSong', '1.54102E+12', '1076', 'When I Grow Up', '200', '1.54359E+12', '16'], ['Coldplay', 'Logged In', 'Chloe', 'F', '38', 'Cuevas', '268.30322', 'paid', 'San Francisco-Oakland-Hayward, CA', 'PUT', 'NextSong', '1.54094E+12', '1096', 'Yellow', '200', '1.54359E+12', '49'], ['Forever The Sickest Kids', 'Logged In', 'Rylan', 'M', '17', 'George', '169.482', 'paid', 'Birmingham-Hoover, AL', 'PUT', 'NextSong', '1.54102E+12', '1076', 'She Likes (Bittersweet Love)', '200', '1.54359E+12', '16'], ['Lil Wayne / Blaque / Mannie Fresh', 'Logged In', 'Chloe', 'F', '39', 'Cuevas', '255.34649', 'paid', 'San Francisco-Oakland-Hayward, CA', 'PUT', 'NextSong', '1.54094E+12', '1096', 'Believe That', '200', '1.54359E+12', '49'], ['Dragonforce', 'Logged In', 'Rylan', 'M', '18', 'George', '441.02485', 'paid', 'Birmingham-Hoover, AL', 'PUT', 'NextSong', '1.54102E+12', '1076', 'Through The Fire And Flames (Album Version)', '200', '1.54359E+12', '16'], ['Jason Mraz & Colbie Caillat', 'Logged In', 'Chloe', 'F', '40', 'Cuevas', '189.6224', 'paid', 'San Francisco-Oakland-Hayward, CA', 'PUT', 'NextSong', '1.54094E+12', '1096', 'Lucky (Album Version)', '200', '1.54359E+12', '49'], ['Pixies', 'Logged In', 'Chloe', 'F', '41', 'Cuevas', '181.13261', 'paid', 'San Francisco-Oakland-Hayward, CA', 'PUT', 'NextSong', '1.54094E+12', '1096', 'Is She Weird', '200', '1.54359E+12', '49'], ['Eminem', 'Logged In', 'Rylan', 'M', '19', 'George', '251.55873', 'paid', 'Birmingham-Hoover, AL', 'PUT', 'NextSong', '1.54102E+12', '1076', 'Without Me', '200', '1.54359E+12', '16'], ['Buju Banton', 'Logged In', 'Chloe', 'F', '42', 'Cuevas', '232.48934', 'paid', 'San Francisco-Oakland-Hayward, CA', 'PUT', 'NextSong', '1.54094E+12', '1096', 'Cry No More', '200', '1.54359E+12', '49'], ['Cage The Elephant', 'Logged In', 'Rylan', 'M', '20', 'George', '196.38812', 'paid', 'Birmingham-Hoover, AL', 'PUT', 'NextSong', '1.54102E+12', '1076', 'Lotus', '200', '1.54359E+12', '16'], ['Barry Tuckwell/Academy of St Martin-in-the-Fields/Sir Neville Marriner', 'Logged In', 'Chloe', 'F', '43', 'Cuevas', '277.15873', 'paid', 'San Francisco-Oakland-Hayward, CA', 'PUT', 'NextSong', '1.54094E+12', '1096', 'Horn Concerto No. 4 in E flat K495: II. Romance (Andante cantabile)', '200', '1.54359E+12', '49'], ['Ste Strausz', 'Logged In', 'Rylan', 'M', '21', 'George', '285.36118', 'paid', 'Birmingham-Hoover, AL', 'PUT', 'NextSong', '1.54102E+12', '1076', 'Le Million', '200', '1.54359E+12', '16'], ['Coldplay', 'Logged In', 'Chloe', 'F', '44', 'Cuevas', '228.62322', 'paid', 'San Francisco-Oakland-Hayward, CA', 'PUT', 'NextSong', '1.54094E+12', '1096', 'Only Superstition', '200', '1.54359E+12', '49'], ['Joe Christmas', 'Logged In', 'Chloe', 'F', '0', 'Roth', '185.7824', 'free', 'Indianapolis-Carmel-Anderson, IN', 'PUT', 'NextSong', '1.5407E+12', '1059', 'Bedroom Suite', '200', '1.54359E+12', '78'], ['Bright Eyes', 'Logged In', 'Rylan', 'M', '22', 'George', '313.23383', 'paid', 'Birmingham-Hoover, AL', 'PUT', 'NextSong', '1.54102E+12', '1076', 'A New Arrangement', '200', '1.54359E+12', '16'], ['Paramore', 'Logged In', 'Chloe', 'F', '1', 'Roth', '267.65016', 'free', 'Indianapolis-Carmel-Anderson, IN', 'PUT', 'NextSong', '1.5407E+12', '1059', 'The Only Exception (Album Version)', '200', '1.54359E+12', '78'], ['J. Karjalainen & Mustat Lasit', 'Logged In', 'Chloe', 'F', '45', 'Cuevas', '336.74404', 'paid', 'San Francisco-Oakland-Hayward, CA', 'PUT', 'NextSong', '1.54094E+12', '1096', 'Sinisten tÃ\\x83Â¤htien alla', '200', '1.54359E+12', '49'], ['', 'Logged In', 'Jayden', 'M', '0', 'Fox', '', 'free', 'New Orleans-Metairie, LA', 'GET', 'Home', '1.54103E+12', '1108', '', '200', '1.54359E+12', '101'], ['Philip Glass', 'Logged In', 'Rylan', 'M', '23', 'George', '368.40444', 'paid', 'Birmingham-Hoover, AL', 'PUT', 'NextSong', '1.54102E+12', '1076', 'Knee 2', '200', '1.5436E+12', '16'], ['Alliance Ethnik', 'Logged In', 'Chloe', 'F', '46', 'Cuevas', '195.94404', 'paid', 'San Francisco-Oakland-Hayward, CA', 'PUT', 'NextSong', '1.54094E+12', '1096', 'SinceritÃ\\x83Â© Et Jalousie', '200', '1.5436E+12', '49'], ['Mew', 'Logged In', 'Rylan', 'M', '24', 'George', '167.75791', 'paid', 'Birmingham-Hoover, AL', 'PUT', 'NextSong', '1.54102E+12', '1076', 'Her Voice Is Beyond Her Years', '200', '1.5436E+12', '16'], ['', 'Logged In', 'Chloe', 'F', '0', 'Cuevas', '', 'paid', 'San Francisco-Oakland-Hayward, CA', 'GET', 'Home', '1.54094E+12', '1114', '', '200', '1.5436E+12', '49'], ['Ive Mendes', 'Logged In', 'Rylan', 'M', '25', 'George', '238.94159', 'paid', 'Birmingham-Hoover, AL', 'PUT', 'NextSong', '1.54102E+12', '1076', 'If You Leave Me Now', '200', '1.5436E+12', '16'], ['', 'Logged In', 'Bronson', 'M', '0', 'Harris', '', 'free', 'Eugene, OR', 'GET', 'Home', '1.54091E+12', '1026', '', '200', '1.5436E+12', '33'], ['Alliance Ethnik', 'Logged In', 'Bronson', 'M', '1', 'Harris', '195.94404', 'free', 'Eugene, OR', 'PUT', 'NextSong', '1.54091E+12', '1026', 'SinceritÃ\\x83Â© Et Jalousie', '200', '1.5436E+12', '33'], ['the bird and the bee', 'Logged In', 'Rylan', 'M', '26', 'George', '193.802', 'paid', 'Birmingham-Hoover, AL', 'PUT', 'NextSong', '1.54102E+12', '1076', 'Diamond Dave', '200', '1.5436E+12', '16'], ['Common / Sadat X', 'Logged In', 'Bronson', 'M', '2', 'Harris', '256.20853', 'free', 'Eugene, OR', 'PUT', 'NextSong', '1.54091E+12', '1026', '1999', '200', '1.5436E+12', '33'], ['', 'Logged In', 'Bronson', 'M', '3', 'Harris', '', 'free', 'Eugene, OR', 'GET', 'Upgrade', '1.54091E+12', '1026', '', '200', '1.5436E+12', '33'], ['', 'Logged In', 'Bronson', 'M', '4', 'Harris', '', 'free', 'Eugene, OR', 'GET', 'Upgrade', '1.54091E+12', '1026', '', '200', '1.5436E+12', '33'], ['Alanis Morissette', 'Logged In', 'Rylan', 'M', '27', 'George', '245.15873', 'paid', 'Birmingham-Hoover, AL', 'PUT', 'NextSong', '1.54102E+12', '1076', 'King Of Pain (Live/Unplugged Version)', '200', '1.5436E+12', '16'], ['', 'Logged In', 'Bronson', 'M', '5', 'Harris', '', 'free', 'Eugene, OR', 'GET', 'Home', '1.54091E+12', '1026', '', '200', '1.5436E+12', '33'], ['', 'Logged In', 'Bronson', 'M', '6', 'Harris', '', 'free', 'Eugene, OR', 'GET', 'Upgrade', '1.54091E+12', '1026', '', '200', '1.5436E+12', '33'], ['Skillet', 'Logged In', 'Bronson', 'M', '7', 'Harris', '233.32526', 'free', 'Eugene, OR', 'PUT', 'NextSong', '1.54091E+12', '1026', 'Rebirthing (Album Version)', '200', '1.5436E+12', '33'], ['', 'Logged In', 'Bronson', 'M', '8', 'Harris', '', 'free', 'Eugene, OR', 'PUT', 'Logout', '1.54091E+12', '1026', '', '307', '1.5436E+12', '33'], ['James Galway;Julian Lee', 'Logged In', 'Rylan', 'M', '28', 'George', '218.67057', 'paid', 'Birmingham-Hoover, AL', 'PUT', 'NextSong', '1.54102E+12', '1076', 'Beauty and the Beast', '200', '1.5436E+12', '16'], ['', 'Logged Out', '', '', '9', '', '', 'free', '', 'GET', 'Home', '', '1026', '', '200', '1.5436E+12', ''], ['Drop Dead_ Gorgeous', 'Logged In', 'Rylan', 'M', '29', 'George', '156.70812', 'paid', 'Birmingham-Hoover, AL', 'PUT', 'NextSong', '1.54102E+12', '1076', 'Dressed For Friend Requests (Album Version)', '200', '1.5436E+12', '16'], ['Dwight Yoakam', 'Logged In', 'Rylan', 'M', '30', 'George', '239.3073', 'paid', 'Birmingham-Hoover, AL', 'PUT', 'NextSong', '1.54102E+12', '1076', \"You're The One\", '200', '1.5436E+12', '16'], ['Trouble', 'Logged In', 'Rylan', 'M', '31', 'George', '205.11302', 'paid', 'Birmingham-Hoover, AL', 'PUT', 'NextSong', '1.54102E+12', '1076', \"Tuesday's Child\", '200', '1.5436E+12', '16'], ['', 'Logged In', 'Rylan', 'M', '32', 'George', '', 'paid', 'Birmingham-Hoover, AL', 'GET', 'Downgrade', '1.54102E+12', '1076', '', '200', '1.5436E+12', '16'], ['OneRepublic', 'Logged In', 'Rylan', 'M', '33', 'George', '237.97506', 'paid', 'Birmingham-Hoover, AL', 'PUT', 'NextSong', '1.54102E+12', '1076', 'All The Right Moves', '200', '1.5436E+12', '16'], ['Switchblade Symphony', 'Logged In', 'Rylan', 'M', '34', 'George', '259.5522', 'paid', 'Birmingham-Hoover, AL', 'PUT', 'NextSong', '1.54102E+12', '1076', 'Wicked', '200', '1.5436E+12', '16'], ['Sharooz', 'Logged In', 'Rylan', 'M', '35', 'George', '234.05669', 'paid', 'Birmingham-Hoover, AL', 'PUT', 'NextSong', '1.54102E+12', '1076', 'My Distressor 40Khz ReRub Mix', '200', '1.5436E+12', '16'], ['Explosions In The Sky', 'Logged In', 'Rylan', 'M', '36', 'George', '522.9971', 'paid', 'Birmingham-Hoover, AL', 'PUT', 'NextSong', '1.54102E+12', '1076', 'Six Days At The Bottom Of The Ocean', '200', '1.5436E+12', '16'], ['', 'Logged In', 'Austin', 'M', '0', 'Rosales', '', 'free', 'New York-Newark-Jersey City, NY-NJ-PA', 'GET', 'Home', '1.54106E+12', '1101', '', '200', '1.5436E+12', '12'], ['Emmylou Harris', 'Logged In', 'Chloe', 'F', '1', 'Cuevas', '194.63791', 'paid', 'San Francisco-Oakland-Hayward, CA', 'PUT', 'NextSong', '1.54094E+12', '1114', 'Little Bird', '200', '1.5436E+12', '49'], ['Jack Johnson', 'Logged In', 'Chloe', 'F', '2', 'Cuevas', '153.67791', 'paid', 'San Francisco-Oakland-Hayward, CA', 'PUT', 'NextSong', '1.54094E+12', '1114', 'The Horizon Has Been Defeated', '200', '1.5436E+12', '49'], ['Radiohead', 'Logged In', 'Rylan', 'M', '37', 'George', '249.93914', 'paid', 'Birmingham-Hoover, AL', 'PUT', 'NextSong', '1.54102E+12', '1076', 'Everything In Its Right Place', '200', '1.5436E+12', '16'], ['Andrew Bird', 'Logged In', 'Chloe', 'F', '3', 'Cuevas', '215.87546', 'paid', 'San Francisco-Oakland-Hayward, CA', 'PUT', 'NextSong', '1.54094E+12', '1114', 'Heretics', '200', '1.5436E+12', '49'], ['Metallica', 'Logged In', 'Rylan', 'M', '38', 'George', '380.21179', 'paid', 'Birmingham-Hoover, AL', 'PUT', 'NextSong', '1.54102E+12', '1076', 'Sabbra Cadabra', '200', '1.5436E+12', '16'], ['Lonnie Gordon', 'Logged In', 'Chloe', 'F', '4', 'Cuevas', '181.21098', 'paid', 'San Francisco-Oakland-Hayward, CA', 'PUT', 'NextSong', '1.54094E+12', '1114', 'Catch You Baby (Steve Pitron & Max Sanna Radio Edit)', '200', '1.5436E+12', '49'], ['Dropkick Murphys', 'Logged In', 'Chloe', 'F', '5', 'Cuevas', '167.73179', 'paid', 'San Francisco-Oakland-Hayward, CA', 'PUT', 'NextSong', '1.54094E+12', '1114', 'Shattered', '200', '1.5436E+12', '49'], ['Eric B. & Rakim', 'Logged In', 'Rylan', 'M', '39', 'George', '240.32608', 'paid', 'Birmingham-Hoover, AL', 'PUT', 'NextSong', '1.54102E+12', '1076', 'As The Rhyme Goes On', '200', '1.5436E+12', '16'], ['Dierks Bentley', 'Logged In', 'Chloe', 'F', '6', 'Cuevas', '223.242', 'paid', 'San Francisco-Oakland-Hayward, CA', 'PUT', 'NextSong', '1.54094E+12', '1114', 'Settle For A Slowdown', '200', '1.5436E+12', '49'], ['Regina Spektor', 'Logged In', 'Rylan', 'M', '40', 'George', '290.14159', 'paid', 'Birmingham-Hoover, AL', 'PUT', 'NextSong', '1.54102E+12', '1076', 'Daniel Cowman', '200', '1.5436E+12', '16'], ['Angelspit', 'Logged In', 'Chloe', 'F', '7', 'Cuevas', '241.94567', 'paid', 'San Francisco-Oakland-Hayward, CA', 'PUT', 'NextSong', '1.54094E+12', '1114', 'Make You Sin', '200', '1.5436E+12', '49'], ['Young Gunz / Beanie Sigel', 'Logged In', 'Chloe', 'F', '8', 'Cuevas', '292.44036', 'paid', 'San Francisco-Oakland-Hayward, CA', 'PUT', 'NextSong', '1.54094E+12', '1114', 'Roc U', '200', '1.5436E+12', '49'], ['DJ Dizzy', 'Logged In', 'Rylan', 'M', '41', 'George', '221.1522', 'paid', 'Birmingham-Hoover, AL', 'PUT', 'NextSong', '1.54102E+12', '1076', 'Sexy Bitch', '200', '1.5436E+12', '16'], ['Base Ball Bear', 'Logged In', 'Rylan', 'M', '42', 'George', '255.60771', 'paid', 'Birmingham-Hoover, AL', 'PUT', 'NextSong', '1.54102E+12', '1076', 'Sayonara-Nostalgia', '200', '1.5436E+12', '16'], ['Morcheeba', 'Logged In', 'Chloe', 'F', '9', 'Cuevas', '101.95546', 'paid', 'San Francisco-Oakland-Hayward, CA', 'PUT', 'NextSong', '1.54094E+12', '1114', 'In The Hands Of The Gods (Featuring Biz Markie)', '200', '1.5436E+12', '49'], ['Bitter:Sweet', 'Logged In', 'Chloe', 'F', '10', 'Cuevas', '194.16771', 'paid', 'San Francisco-Oakland-Hayward, CA', 'PUT', 'NextSong', '1.54094E+12', '1114', \"Don't Forget To Breathe\", '200', '1.5436E+12', '49'], ['Basshunter Feat. DJ Mental Theo\\x19s Bazzheadz', 'Logged In', 'Rylan', 'M', '43', 'George', '152.65914', 'paid', 'Birmingham-Hoover, AL', 'PUT', 'NextSong', '1.54102E+12', '1076', \"Now You're Gone\", '200', '1.5436E+12', '16'], ['BjÃ\\x83Â¶rk', 'Logged In', 'Chloe', 'F', '11', 'Cuevas', '348.57751', 'paid', 'San Francisco-Oakland-Hayward, CA', 'PUT', 'NextSong', '1.54094E+12', '1114', 'Undo', '200', '1.5436E+12', '49'], ['Rihanna', 'Logged In', 'Rylan', 'M', '44', 'George', '239.75138', 'paid', 'Birmingham-Hoover, AL', 'PUT', 'NextSong', '1.54102E+12', '1076', 'G4L', '200', '1.5436E+12', '16'], ['Evanescence', 'Logged In', 'Rylan', 'M', '45', 'George', '220.3424', 'paid', 'Birmingham-Hoover, AL', 'PUT', 'NextSong', '1.54102E+12', '1076', 'Hello', '200', '1.5436E+12', '16'], ['Mr. Vegas', 'Logged In', 'Chloe', 'F', '12', 'Cuevas', '240.69179', 'paid', 'San Francisco-Oakland-Hayward, CA', 'PUT', 'NextSong', '1.54094E+12', '1114', 'Tamale', '200', '1.5436E+12', '49'], ['Mischa Daniels', 'Logged In', 'Rylan', 'M', '46', 'George', '419.81342', 'paid', 'Birmingham-Hoover, AL', 'PUT', 'NextSong', '1.54102E+12', '1076', 'Another Place', '200', '1.5436E+12', '16'], ['The Menzingers', 'Logged In', 'Chloe', 'F', '13', 'Cuevas', '276.00934', 'paid', 'San Francisco-Oakland-Hayward, CA', 'PUT', 'NextSong', '1.54094E+12', '1114', 'Straight To Hell', '200', '1.5436E+12', '49'], ['Justin Timberlake', 'Logged In', 'Chloe', 'F', '14', 'Cuevas', '288.93995', 'paid', 'San Francisco-Oakland-Hayward, CA', 'PUT', 'NextSong', '1.54094E+12', '1114', 'Cry Me A River', '200', '1.5436E+12', '49'], ['Vilma Palma e Vampiros', 'Logged In', 'Rylan', 'M', '47', 'George', '338.18077', 'paid', 'Birmingham-Hoover, AL', 'PUT', 'NextSong', '1.54102E+12', '1076', 'Un Camino Hasta Vos', '200', '1.5436E+12', '16'], ['CCCP - Fedeli Alla Linea', 'Logged In', 'Chloe', 'F', '15', 'Cuevas', '329.66485', 'paid', 'San Francisco-Oakland-Hayward, CA', 'PUT', 'NextSong', '1.54094E+12', '1114', 'Sura (2008 Digital Remaster)', '200', '1.5436E+12', '49'], ['Kid Cudi / MGMT / Ratatat', 'Logged In', 'Rylan', 'M', '48', 'George', '295.67955', 'paid', 'Birmingham-Hoover, AL', 'PUT', 'NextSong', '1.54102E+12', '1076', 'Pursuit Of Happiness (nightmare)', '200', '1.5436E+12', '16'], ['Drake / Kanye West / Lil Wayne / Eminem', 'Logged In', 'Chloe', 'F', '16', 'Cuevas', '357.66812', 'paid', 'San Francisco-Oakland-Hayward, CA', 'PUT', 'NextSong', '1.54094E+12', '1114', 'Forever', '200', '1.5436E+12', '49'], ['A Day To Remember', 'Logged In', 'Rylan', 'M', '49', 'George', '247.64036', 'paid', 'Birmingham-Hoover, AL', 'PUT', 'NextSong', '1.54102E+12', '1076', 'Homesick [Acoustic]', '200', '1.5436E+12', '16'], ['T.I.', 'Logged In', 'Jayden', 'M', '0', 'Bell', '299.75465', 'free', 'Dallas-Fort Worth-Arlington, TX', 'PUT', 'NextSong', '1.54099E+12', '1085', 'Dead And Gone [feat. Justin Timberlake] (Explicit Album Version)', '200', '1.5436E+12', '91'], ['The Offspring', 'Logged In', 'Rylan', 'M', '50', 'George', '163.3171', 'paid', 'Birmingham-Hoover, AL', 'PUT', 'NextSong', '1.54102E+12', '1076', \"It'll Be a Long Time (Album Version)\", '200', '1.5436E+12', '16'], ['Jorge Gonzalez', 'Logged In', 'Chloe', 'F', '17', 'Cuevas', '272.14322', 'paid', 'San Francisco-Oakland-Hayward, CA', 'PUT', 'NextSong', '1.54094E+12', '1114', 'Esta Es Para Hacerte FÃ\\x83Â©liz', '200', '1.5436E+12', '49'], ['Sneaker Pimps', 'Logged In', 'Jayden', 'M', '1', 'Bell', '260.91057', 'free', 'Dallas-Fort Worth-Arlington, TX', 'PUT', 'NextSong', '1.54099E+12', '1085', 'Spin Spin Sugar', '200', '1.5436E+12', '91'], ['Escape The Fate', 'Logged In', 'Rylan', 'M', '51', 'George', '266.73587', 'paid', 'Birmingham-Hoover, AL', 'PUT', 'NextSong', '1.54102E+12', '1076', 'This War Is Ours (The Guillotine II)', '200', '1.5436E+12', '16'], ['Juanes', 'Logged In', 'Chloe', 'F', '18', 'Cuevas', '243.27791', 'paid', 'San Francisco-Oakland-Hayward, CA', 'PUT', 'NextSong', '1.54094E+12', '1114', 'La Vida Es Un Ratico', '200', '1.5436E+12', '49'], ['The Replacements', 'Logged In', 'Rylan', 'M', '52', 'George', '170.57914', 'paid', 'Birmingham-Hoover, AL', 'PUT', 'NextSong', '1.54102E+12', '1076', 'Never Mind', '200', '1.5436E+12', '16'], ['Sarah McLachlan', 'Logged In', 'Chloe', 'F', '19', 'Cuevas', '278.90893', 'paid', 'San Francisco-Oakland-Hayward, CA', 'PUT', 'NextSong', '1.54094E+12', '1114', 'Possession', '200', '1.5436E+12', '49'], ['Sonny Boy Williamson', 'Logged In', 'Rylan', 'M', '53', 'George', '152.24118', 'paid', 'Birmingham-Hoover, AL', 'PUT', 'NextSong', '1.54102E+12', '1076', \"Don't Start Me Talkin'\", '200', '1.5436E+12', '16'], ['Soul II Soul Featuring Caron Wheeler', 'Logged In', 'Rylan', 'M', '54', 'George', '225.2273', 'paid', 'Birmingham-Hoover, AL', 'PUT', 'NextSong', '1.54102E+12', '1076', 'Back To Life (However Do You Want Me) (2003 Digital Remaster) (Feat. Caron Wheeler)', '200', '1.5436E+12', '16'], ['Florence + The Machine', 'Logged In', 'Chloe', 'F', '20', 'Cuevas', '219.66322', 'paid', 'San Francisco-Oakland-Hayward, CA', 'PUT', 'NextSong', '1.54094E+12', '1114', 'Dog Days Are Over (Radio Edit)', '200', '1.5436E+12', '49'], ['Pantera', 'Logged In', 'Rylan', 'M', '55', 'George', '286.69342', 'paid', 'Birmingham-Hoover, AL', 'PUT', 'NextSong', '1.54102E+12', '1076', 'Heresy  (LP Version)', '200', '1.5436E+12', '16'], ['', 'Logged In', 'Rylan', 'M', '56', 'George', '', 'paid', 'Birmingham-Hoover, AL', 'GET', 'Help', '1.54102E+12', '1076', '', '200', '1.5436E+12', '16'], ['Cold', 'Logged In', 'Chloe', 'F', '21', 'Cuevas', '177.76281', 'paid', 'San Francisco-Oakland-Hayward, CA', 'PUT', 'NextSong', '1.54094E+12', '1114', 'Remedy', '200', '1.5436E+12', '49'], ['Norther', 'Logged In', 'Chloe', 'F', '22', 'Cuevas', '246.54322', 'paid', 'San Francisco-Oakland-Hayward, CA', 'PUT', 'NextSong', '1.54094E+12', '1114', 'Frozen Angel', '200', '1.5436E+12', '49'], ['Foo Fighters', 'Logged In', 'Rylan', 'M', '57', 'George', '271.38567', 'paid', 'Birmingham-Hoover, AL', 'PUT', 'NextSong', '1.54102E+12', '1076', 'The Pretender', '200', '1.5436E+12', '16'], ['Timbiriche', 'Logged In', 'Rylan', 'M', '58', 'George', '202.60526', 'paid', 'Birmingham-Hoover, AL', 'PUT', 'NextSong', '1.54102E+12', '1076', 'Besos De Ceniza', '200', '1.5436E+12', '16'], ['A Perfect Circle', 'Logged In', 'Rylan', 'M', '59', 'George', '206.05342', 'paid', 'Birmingham-Hoover, AL', 'PUT', 'NextSong', '1.54102E+12', '1076', 'Rose', '200', '1.5436E+12', '16'], ['Anberlin', 'Logged In', 'Rylan', 'M', '60', 'George', '348.682', 'paid', 'Birmingham-Hoover, AL', 'PUT', 'NextSong', '1.54102E+12', '1076', 'The Haunting', '200', '1.5436E+12', '16'], ['', 'Logged In', 'Rylan', 'M', '61', 'George', '', 'paid', 'Birmingham-Hoover, AL', 'GET', 'Downgrade', '1.54102E+12', '1076', '', '200', '1.5436E+12', '16'], ['Deas Vail', 'Logged In', 'Elijah', 'M', '0', 'Davis', '237.68771', 'free', 'Detroit-Warren-Dearborn, MI', 'PUT', 'NextSong', '1.54077E+12', '985', 'Anything You Say (Unreleased Version)', '200', '1.54361E+12', '5']]\n"
     ]
    }
   ],
   "source": [
    "# initiating an empty list of rows that will be generated from each file\n",
    "full_data_rows_list = [] \n",
    "    \n",
    "# for every filepath in the file path list \n",
    "for f in file_path_list:\n",
    "\n",
    "# reading csv file \n",
    "    with open(f, 'r', encoding = 'utf8', newline='') as csvfile: \n",
    "        # creating a csv reader object \n",
    "        csvreader = csv.reader(csvfile) \n",
    "        next(csvreader)\n",
    "        \n",
    " # extracting each data row one by one and append it        \n",
    "        for line in csvreader:\n",
    "            #print(line)\n",
    "            full_data_rows_list.append(line) \n",
    "            \n",
    "# uncomment the code below if you would like to get total number of rows \n",
    "print(len(full_data_rows_list))\n",
    "# uncomment the code below if you would like to check to see what the list of event data rows will look like\n",
    "print(full_data_rows_list)\n",
    "\n",
    "# creating a smaller event data csv file called event_datafile_full csv that will be used to insert data into the \\\n",
    "# Apache Cassandra tables\n",
    "csv.register_dialect('myDialect', quoting=csv.QUOTE_ALL, skipinitialspace=True)\n",
    "\n",
    "with open('event_datafile_new.csv', 'w', encoding = 'utf8', newline='') as f:\n",
    "    writer = csv.writer(f, dialect='myDialect')\n",
    "    writer.writerow(['artist','firstName','gender','itemInSession','lastName','length',\\\n",
    "                'level','location','sessionId','song','userId'])\n",
    "    for row in full_data_rows_list:\n",
    "        if (row[0] == ''):\n",
    "            continue\n",
    "        writer.writerow((row[0], row[2], row[3], row[4], row[5], row[6], row[7], row[8], row[12], row[13], row[16]))\n"
   ]
  },
  {
   "cell_type": "code",
   "execution_count": 4,
   "metadata": {},
   "outputs": [
    {
     "output_type": "stream",
     "name": "stdout",
     "text": [
      "6821\n"
     ]
    }
   ],
   "source": [
    "# check the number of rows in your csv file\n",
    "with open('event_datafile_new.csv', 'r', encoding = 'utf8') as f:\n",
    "    print(sum(1 for line in f))"
   ]
  },
  {
   "cell_type": "markdown",
   "metadata": {},
   "source": [
    "# Part II. Complete the Apache Cassandra coding portion of your project. \n",
    "\n",
    "## Now you are ready to work with the CSV file titled <font color=red>event_datafile_new.csv</font>, located within the Workspace directory.  The event_datafile_new.csv contains the following columns: \n",
    "- artist \n",
    "- firstName of user\n",
    "- gender of user\n",
    "- item number in session\n",
    "- last name of user\n",
    "- length of the song\n",
    "- level (paid or free song)\n",
    "- location of the user\n",
    "- sessionId\n",
    "- song title\n",
    "- userId\n",
    "\n",
    "The image below is a screenshot of what the denormalized data should appear like in the <font color=red>**event_datafile_new.csv**</font> after the code above is run:<br>\n",
    "\n",
    "<img src=\"images/image_event_datafile_new.jpg\">"
   ]
  },
  {
   "cell_type": "markdown",
   "metadata": {},
   "source": [
    "## Begin writing your Apache Cassandra code in the cells below"
   ]
  },
  {
   "cell_type": "markdown",
   "metadata": {},
   "source": [
    "#### Creating a Cluster"
   ]
  },
  {
   "cell_type": "code",
   "execution_count": 35,
   "metadata": {},
   "outputs": [],
   "source": [
    "# This should make a connection to a Cassandra instance your local machine \n",
    "# (127.0.0.1)\n",
    "\n",
    "from cassandra.cluster import Cluster\n",
    "cluster = Cluster()\n",
    "\n",
    "# To establish connection and begin executing queries, need a session\n",
    "session = cluster.connect()"
   ]
  },
  {
   "cell_type": "markdown",
   "metadata": {},
   "source": [
    "#### Create Keyspace"
   ]
  },
  {
   "cell_type": "code",
   "execution_count": 36,
   "metadata": {},
   "outputs": [],
   "source": [
    "# TO-DO: Create a Keyspace \n",
    "try:\n",
    "    session.execute(\"\"\"\n",
    "    CREATE KEYSPACE IF NOT EXISTS udacity \n",
    "    WITH REPLICATION = \n",
    "    { 'class' : 'SimpleStrategy', 'replication_factor' : 1 }\"\"\"\n",
    ")\n",
    "\n",
    "except Exception as e:\n",
    "    print(e)"
   ]
  },
  {
   "cell_type": "markdown",
   "metadata": {},
   "source": [
    "#### Set Keyspace"
   ]
  },
  {
   "cell_type": "code",
   "execution_count": 37,
   "metadata": {},
   "outputs": [],
   "source": [
    "# TO-DO: Set KEYSPACE to the keyspace specified above\n",
    "try:\n",
    "    session.set_keyspace('udacity')\n",
    "except Exception as e:\n",
    "    print(e)"
   ]
  },
  {
   "cell_type": "markdown",
   "metadata": {},
   "source": [
    "### Now we need to create tables to run the following queries. Remember, with Apache Cassandra you model the database tables on the queries you want to run."
   ]
  },
  {
   "cell_type": "markdown",
   "metadata": {},
   "source": [
    "## Create queries to ask the following three questions of the data\n",
    "\n",
    "### 1. Give me the artist, song title and song's length in the music app history that was heard during  sessionId = 338, and itemInSession  = 4\n",
    "\n",
    "\n",
    "### 2. Give me only the following: name of artist, song (sorted by itemInSession) and user (first and last name) for userid = 10, sessionid = 182\n",
    "    \n",
    "\n",
    "### 3. Give me every user name (first and last) in my music app history who listened to the song 'All Hands Against His Own'\n",
    "\n",
    "\n"
   ]
  },
  {
   "cell_type": "code",
   "execution_count": 18,
   "metadata": {},
   "outputs": [],
   "source": [
    "## TO-DO: Query 1:  Give me the artist, song title and song's length in the music app history that was heard during \\\n",
    "## sessionId = 338, and itemInSession = 4\n",
    "\n",
    "query = \"CREATE TABLE IF NOT EXISTS music_app_history \"\n",
    "query = query + \"(session_id int, item_in_session int, artist text, song text, length float, PRIMARY KEY (session_id, item_in_session))\"\n",
    "try:\n",
    "    session.execute(query)\n",
    "except Exception as e:\n",
    "    print(e)"
   ]
  },
  {
   "cell_type": "code",
   "execution_count": 24,
   "metadata": {
    "scrolled": false
   },
   "outputs": [],
   "source": [
    "# We have provided part of the code to set up the CSV file. Please complete the Apache Cassandra code below#\n",
    "file = 'event_datafile_new.csv'\n",
    "\n",
    "with open(file, encoding = 'utf8') as f:\n",
    "    csvreader = csv.reader(f)\n",
    "    next(csvreader) # skip header\n",
    "    for line in csvreader:\n",
    "## TO-DO: Assign the INSERT statements into the `query` variable\n",
    "        query = \"INSERT INTO music_app_history (session_id, item_in_session, artist, song, length)\"\n",
    "        query = query + \"VALUES (%s, %s, %s, %s, %s)\"\n",
    "        ## TO-DO: Assign which column element should be assigned for each column in the INSERT statement.\n",
    "        ## For e.g., to INSERT artist_name and user first_name, you would change the code below to `line[0], line[1]`\n",
    "        ## Mapping:\n",
    "        ## 8: session_id, 3: item_in_session, 0: artist, 9: song, 5: length\n",
    "        session.execute(query, (int(line[8]), int(line[3]), line[0], line[9], float(line[5])))"
   ]
  },
  {
   "cell_type": "markdown",
   "metadata": {},
   "source": [
    "#### Do a SELECT to verify that the data have been inserted into each table"
   ]
  },
  {
   "cell_type": "code",
   "execution_count": 29,
   "metadata": {
    "scrolled": true
   },
   "outputs": [
    {
     "output_type": "stream",
     "name": "stdout",
     "text": [
      "Row(artist='Faithless', song='Music Matters (Mark Knight Dub)', length=495.30731201171875)\n"
     ]
    }
   ],
   "source": [
    "## TO-DO: Add in the SELECT statement to verify the data was entered into the table\n",
    "query = \"SELECT artist, song, length FROM music_app_history WHERE session_id=338 AND item_in_session=4\"\n",
    "try:\n",
    "    rows = session.execute(query)\n",
    "except Exception as e:\n",
    "    print(e)\n",
    "    \n",
    "for row in rows:\n",
    "    print (row)"
   ]
  },
  {
   "cell_type": "markdown",
   "metadata": {},
   "source": [
    "### COPY AND REPEAT THE ABOVE THREE CELLS FOR EACH OF THE THREE QUESTIONS"
   ]
  },
  {
   "cell_type": "code",
   "execution_count": 40,
   "metadata": {},
   "outputs": [],
   "source": [
    "## TO-DO: Query 2: Give me only the following: name of artist, song (sorted by itemInSession) and user (first and last name)\\\n",
    "## for userid = 10, sessionid = 182\n",
    "\n",
    "query = \"CREATE TABLE IF NOT EXISTS music_app_user_session \"\n",
    "query = query + \"(user_id int, session_id int, item_in_session int, artist text, song text, first_name text, last_name text, PRIMARY KEY ((user_id, session_id), item_in_session))\"\n",
    "try:\n",
    "    session.execute(query)\n",
    "except Exception as e:\n",
    "    print(e)                    "
   ]
  },
  {
   "cell_type": "code",
   "execution_count": 41,
   "metadata": {},
   "outputs": [],
   "source": [
    "file = 'event_datafile_new.csv'\n",
    "\n",
    "with open(file, encoding = 'utf8') as f:\n",
    "    csvreader = csv.reader(f)\n",
    "    next(csvreader) # skip header\n",
    "    for line in csvreader:\n",
    "## TO-DO: Assign the INSERT statements into the `query` variable\n",
    "        query = \"INSERT INTO music_app_user_session (user_id, session_id, item_in_session, artist, song, first_name, last_name)\"\n",
    "        query = query + \"VALUES (%s, %s, %s, %s, %s, %s, %s)\"\n",
    "        ## TO-DO: Assign which column element should be assigned for each column in the INSERT statement.\n",
    "        ## For e.g., to INSERT artist_name and user first_name, you would change the code below to `line[0], line[1]`\n",
    "        ## Mapping:\n",
    "        ## 8: session_id, 3: item_in_session, 0: artist, 9: song, 5: length\n",
    "        session.execute(query, (int(line[10]), int(line[8]), int(line[3]), line[0], line[9], line[1], line[4]))"
   ]
  },
  {
   "cell_type": "code",
   "execution_count": 43,
   "metadata": {},
   "outputs": [
    {
     "output_type": "stream",
     "name": "stdout",
     "text": [
      "Row(artist='Down To The Bone', song=\"Keep On Keepin' On\", item_in_session=0, first_name='Sylvie', last_name='Cruz')\nRow(artist='Three Drives', song='Greece 2000', item_in_session=1, first_name='Sylvie', last_name='Cruz')\nRow(artist='Sebastien Tellier', song='Kilometer', item_in_session=2, first_name='Sylvie', last_name='Cruz')\nRow(artist='Lonnie Gordon', song='Catch You Baby (Steve Pitron & Max Sanna Radio Edit)', item_in_session=3, first_name='Sylvie', last_name='Cruz')\n"
     ]
    }
   ],
   "source": [
    "query = \"SELECT artist, song, first_name, last_name FROM music_app_user_session WHERE user_id=10 AND session_id=182\"\n",
    "try:\n",
    "    rows = session.execute(query)\n",
    "except Exception as e:\n",
    "    print(e)\n",
    "    \n",
    "for row in rows:\n",
    "    print (row)"
   ]
  },
  {
   "cell_type": "code",
   "execution_count": null,
   "metadata": {},
   "outputs": [],
   "source": [
    "## TO-DO: Query 3: Give me every user name (first and last) in my music app history who listened to the song 'All Hands Against His Own'\n",
    "\n",
    "\n",
    "                    "
   ]
  },
  {
   "cell_type": "code",
   "execution_count": null,
   "metadata": {},
   "outputs": [],
   "source": []
  },
  {
   "cell_type": "code",
   "execution_count": null,
   "metadata": {},
   "outputs": [],
   "source": []
  },
  {
   "cell_type": "markdown",
   "metadata": {},
   "source": [
    "### Drop the tables before closing out the sessions"
   ]
  },
  {
   "cell_type": "code",
   "execution_count": 30,
   "metadata": {},
   "outputs": [
    {
     "output_type": "execute_result",
     "data": {
      "text/plain": [
       "<cassandra.cluster.ResultSet at 0x7f84db342ca0>"
      ]
     },
     "metadata": {},
     "execution_count": 30
    }
   ],
   "source": [
    "## TO-DO: Drop the table before closing out the sessions\n",
    "session.execute('DROP TABLE music_app_history')"
   ]
  },
  {
   "cell_type": "code",
   "execution_count": null,
   "metadata": {},
   "outputs": [],
   "source": []
  },
  {
   "cell_type": "markdown",
   "metadata": {},
   "source": [
    "### Close the session and cluster connection¶"
   ]
  },
  {
   "cell_type": "code",
   "execution_count": 31,
   "metadata": {},
   "outputs": [],
   "source": [
    "session.shutdown()\n",
    "cluster.shutdown()"
   ]
  },
  {
   "cell_type": "code",
   "execution_count": null,
   "metadata": {},
   "outputs": [],
   "source": []
  },
  {
   "cell_type": "code",
   "execution_count": null,
   "metadata": {},
   "outputs": [],
   "source": []
  }
 ],
 "metadata": {
  "kernelspec": {
   "name": "python3",
   "display_name": "Python 3.8.2 64-bit",
   "metadata": {
    "interpreter": {
     "hash": "aee8b7b246df8f9039afb4144a1f6fd8d2ca17a180786b69acc140d282b71a49"
    }
   }
  },
  "language_info": {
   "codemirror_mode": {
    "name": "ipython",
    "version": 3
   },
   "file_extension": ".py",
   "mimetype": "text/x-python",
   "name": "python",
   "nbconvert_exporter": "python",
   "pygments_lexer": "ipython3",
   "version": "3.8.2-final"
  }
 },
 "nbformat": 4,
 "nbformat_minor": 2
}